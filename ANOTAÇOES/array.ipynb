{
 "cells": [
  {
   "cell_type": "code",
   "execution_count": 2,
   "metadata": {},
   "outputs": [
    {
     "data": {
      "text/plain": [
       "3"
      ]
     },
     "execution_count": 2,
     "metadata": {},
     "output_type": "execute_result"
    }
   ],
   "source": [
    "import array as arr\n",
    "\n",
    "a=arr.array(\"d\",[1.2,1.3,2.3])\n",
    "\n",
    "a[1]\n",
    "len(a)"
   ]
  },
  {
   "cell_type": "code",
   "execution_count": 3,
   "metadata": {},
   "outputs": [
    {
     "name": "stdout",
     "output_type": "stream",
     "text": [
      "array('d', [1.1, 2.1, 3.1, 3.4])\n"
     ]
    }
   ],
   "source": [
    "a=arr.array('d', [1.1 , 2.1 ,3.1] )\n",
    "a.append(3.4)\n",
    "print(a)"
   ]
  },
  {
   "cell_type": "code",
   "execution_count": 5,
   "metadata": {},
   "outputs": [
    {
     "name": "stdout",
     "output_type": "stream",
     "text": [
      "Array c =  array('d', [1.2, 3.2, 4.3, 5.3, 1.2, 2.1, 3.1])\n"
     ]
    }
   ],
   "source": [
    "a= arr.array(\"d\",[1.2, 2.1, 3.1])\n",
    "b = arr.array(\"d\",[1.2, 3.2, 4.3, 5.3])\n",
    "c= arr.array(\"d\")\n",
    "c = b+a\n",
    "print(\"Array c = \",c)"
   ]
  },
  {
   "cell_type": "code",
   "execution_count": 6,
   "metadata": {},
   "outputs": [
    {
     "name": "stdout",
     "output_type": "stream",
     "text": [
      "4.6\n",
      "3.1\n",
      "array('d', [1.1, 2.2, 3.8, 3.7, 1.2])\n"
     ]
    }
   ],
   "source": [
    "a=arr.array('d', [1.1, 2.2, 3.8, 3.1, 3.7, 1.2, 4.6])\n",
    "print(a.pop())\n",
    "print(a.pop(3))\n",
    "\n",
    "print(a)"
   ]
  },
  {
   "cell_type": "code",
   "execution_count": 7,
   "metadata": {},
   "outputs": [
    {
     "name": "stdout",
     "output_type": "stream",
     "text": [
      "array('d', [2.1, 3.1])\n"
     ]
    }
   ],
   "source": [
    "a=arr.array('d',[1.1 , 2.1 ,3.1])\n",
    "a.remove(1.1)\n",
    "print(a)"
   ]
  },
  {
   "cell_type": "code",
   "execution_count": 8,
   "metadata": {},
   "outputs": [
    {
     "name": "stdout",
     "output_type": "stream",
     "text": [
      "array('d', [1.1, 2.1, 3.1])\n"
     ]
    }
   ],
   "source": [
    "a=arr.array('d',[1.1 , 2.1 ,3.1,2.6,7.8])\n",
    "print(a[0:3])"
   ]
  },
  {
   "cell_type": "code",
   "execution_count": 9,
   "metadata": {},
   "outputs": [
    {
     "name": "stdout",
     "output_type": "stream",
     "text": [
      "All values\n",
      "1.1\n",
      "2.2\n",
      "3.8\n",
      "3.1\n",
      "3.7\n",
      "1.2\n",
      "4.6\n",
      "specific values\n",
      "2.2\n",
      "3.8\n"
     ]
    }
   ],
   "source": [
    "a=arr.array('d', [1.1, 2.2, 3.8, 3.1, 3.7, 1.2, 4.6])\n",
    "print(\"All values\")\n",
    "for x in a: \n",
    "    print(x)\n",
    "print(\"specific values\")\n",
    "for x in a[1:3]: \n",
    "    print(x)"
   ]
  }
 ],
 "metadata": {
  "kernelspec": {
   "display_name": "Python 3",
   "language": "python",
   "name": "python3"
  },
  "language_info": {
   "codemirror_mode": {
    "name": "ipython",
    "version": 3
   },
   "file_extension": ".py",
   "mimetype": "text/x-python",
   "name": "python",
   "nbconvert_exporter": "python",
   "pygments_lexer": "ipython3",
   "version": "3.12.7"
  }
 },
 "nbformat": 4,
 "nbformat_minor": 2
}
