{
 "cells": [
  {
   "cell_type": "code",
   "execution_count": 6,
   "metadata": {},
   "outputs": [
    {
     "data": {
      "text/plain": [
       "666.67"
      ]
     },
     "execution_count": 6,
     "metadata": {},
     "output_type": "execute_result"
    }
   ],
   "source": [
    "def exchange_money(budget, exchange_rate):\n",
    "    change = float(budget / exchange_rate)\n",
    "    return round(change,2)\n",
    "\n",
    "exchange_money(800, 1.2)"
   ]
  },
  {
   "cell_type": "code",
   "execution_count": 7,
   "metadata": {},
   "outputs": [
    {
     "data": {
      "text/plain": [
       "5.5"
      ]
     },
     "execution_count": 7,
     "metadata": {},
     "output_type": "execute_result"
    }
   ],
   "source": [
    "def get_change(budget, exchanging_value):\n",
    "    exchanging = float(budget - exchanging_value)\n",
    "    return round(exchanging,2)\n",
    "\n",
    "get_change(125.5,120)"
   ]
  },
  {
   "cell_type": "code",
   "execution_count": null,
   "metadata": {},
   "outputs": [
    {
     "data": {
      "text/plain": [
       "640"
      ]
     },
     "execution_count": 8,
     "metadata": {},
     "output_type": "execute_result"
    }
   ],
   "source": [
    "def get_value_of_bills(denomination,number_of_bills):\n",
    "    mult = int(denomination * number_of_bills)\n",
    "    return mult\n",
    "\n",
    "get_value_of_bills(128, 5)"
   ]
  },
  {
   "cell_type": "code",
   "execution_count": null,
   "metadata": {},
   "outputs": [
    {
     "data": {
      "text/plain": [
       "25"
      ]
     },
     "execution_count": 13,
     "metadata": {},
     "output_type": "execute_result"
    }
   ],
   "source": [
    "def get_number_of_bills(amount,denomination):\n",
    "    division= int(amount / denomination)\n",
    "    return division\n",
    "\n",
    "get_number_of_bills(125.9, 5)"
   ]
  },
  {
   "cell_type": "code",
   "execution_count": 4,
   "metadata": {},
   "outputs": [
    {
     "data": {
      "text/plain": [
       "7.5"
      ]
     },
     "execution_count": 4,
     "metadata": {},
     "output_type": "execute_result"
    }
   ],
   "source": [
    "def get_leftover_of_bills(amount, denomination):\n",
    "    if denomination <= 0:\n",
    "        raise ValueError(\"Denomination must be greater than zero.\")\n",
    "    if amount < 0:\n",
    "        raise ValueError(\"Amount must not be negative.\")\n",
    "\n",
    "    leftover = amount % denomination\n",
    "    return round(leftover, 2)  # Rounding to two decimal places\n",
    "\n",
    "\n",
    "get_leftover_of_bills(127.5,20)"
   ]
  },
  {
   "cell_type": "code",
   "execution_count": null,
   "metadata": {},
   "outputs": [],
   "source": [
    "def exchangeable_value(budget, exchange_rate, spread, denomination):\n",
    "    \n",
    "    if budget <= 0 or exchange_rate <= 0 or denomination <= 0:\n",
    "        raise ValueError(\"Budget, exchange rate, and denomination must all be positive values.\")\n",
    "    if spread < 0:\n",
    "        raise ValueError(\"Spread must not be negative.\")\n",
    "    \n",
    "    adjusted_rate = exchange_rate * (1 + spread / 100)\n",
    "\n",
    "    # Calculate the total amount in foreign currency\n",
    "    foreign_currency = budget / adjusted_rate\n",
    "\n",
    "    # Determine the maximum exchangeable value in whole bills\n",
    "    exchangeable = int(foreign_currency // denomination) * denomination\n",
    "\n",
    "    return exchangeable"
   ]
  }
 ],
 "metadata": {
  "kernelspec": {
   "display_name": "Python 3",
   "language": "python",
   "name": "python3"
  },
  "language_info": {
   "codemirror_mode": {
    "name": "ipython",
    "version": 3
   },
   "file_extension": ".py",
   "mimetype": "text/x-python",
   "name": "python",
   "nbconvert_exporter": "python",
   "pygments_lexer": "ipython3",
   "version": "3.12.7"
  }
 },
 "nbformat": 4,
 "nbformat_minor": 2
}
